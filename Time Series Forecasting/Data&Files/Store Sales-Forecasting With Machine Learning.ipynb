{
 "cells": [
  {
   "cell_type": "code",
   "execution_count": null,
   "metadata": {},
   "outputs": [],
   "source": [
    "#Importing the necessary libraries\n",
    "\n",
    "from pathlib import Path\n",
    "import pandas as pd\n",
    "import matplotlib.pyplot as plt\n",
    "from sklearn.linear_model import LinearRegression\n",
    "from sklearn.multioutput import RegressorChain\n",
    "from sklearn.preprocessing import LabelEncoder\n",
    "from xgboost import XGBRegressor\n"
   ]
  },
  {
   "cell_type": "code",
   "execution_count": 8,
   "metadata": {},
   "outputs": [],
   "source": [
    "#Reading the file\n",
    "\n",
    "comp_dir = Path('/Users/eva/Desktop/Kaggle/store-sales-time-series-forecasting')\n",
    "\n",
    "store_sales = pd.read_csv(comp_dir/'train.csv', usecols = ['store_nbr', 'family', 'date', 'sales', 'onpromotion'],\n",
    "dtype = {\n",
    "    'store_nbr' : 'category',\n",
    "    'family' : 'category',\n",
    "    'sales' : 'float32',\n",
    "    'onpromotion' : 'uint32'\n",
    "},\n",
    "parse_dates = ['date'])\n",
    "\n",
    "store_sales['date'] = store_sales.date.dt.to_period('D')\n",
    "\n",
    "store_sales = store_sales.set_index(['store_nbr', 'family', 'date']).sort_index()\n",
    "\n",
    "\n"
   ]
  }
 ],
 "metadata": {
  "kernelspec": {
   "display_name": "base",
   "language": "python",
   "name": "python3"
  },
  "language_info": {
   "codemirror_mode": {
    "name": "ipython",
    "version": 3
   },
   "file_extension": ".py",
   "mimetype": "text/x-python",
   "name": "python",
   "nbconvert_exporter": "python",
   "pygments_lexer": "ipython3",
   "version": "3.12.7"
  }
 },
 "nbformat": 4,
 "nbformat_minor": 2
}
