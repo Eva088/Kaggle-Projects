{
 "cells": [
  {
   "cell_type": "markdown",
   "metadata": {},
   "source": [
    "**Flu Trends**\n",
    "\n",
    "Applying the MultiOutput and Direct Strategies to the Flu Trends dataset and making true forecasts for multiple weeks beyond the training period. The forecast will have a 1-week lead time and an 8-week horizon. "
   ]
  },
  {
   "cell_type": "markdown",
   "metadata": {},
   "source": [
    "**Installing the libraries**\n"
   ]
  },
  {
   "cell_type": "code",
   "execution_count": 10,
   "metadata": {},
   "outputs": [],
   "source": [
    "from pathlib import Path\n",
    "from warnings import simplefilter\n",
    "\n",
    "import matplotlib.pyplot as plt\n",
    "import numpy as np\n",
    "import pandas as pd\n",
    "import seaborn as sns\n",
    "from sklearn.linear_model import LinearRegression\n",
    "from sklearn.metrics import mean_squared_error\n",
    "from sklearn.model_selection import train_test_split\n",
    "from xgboost import XGBRegressor\n",
    "\n",
    "simplefilter('ignore')\n",
    "\n",
    "##Setting matplotlib defaults\n",
    "\n",
    "plt.style.use('seaborn-v0_8-whitegrid')\n",
    "plt.rc('figure', autolayout = True, figsize = (11,4))\n",
    "plt.rc(\n",
    "    'axes',\n",
    "    labelweight = 'bold',\n",
    "    labelsize = 'large',\n",
    "    titleweight = 'bold',\n",
    "    titlesize = 16,\n",
    "    titlepad = 10,)\n",
    "\n",
    "plot_params = dict(color = '0.75', style = \".-\", markeredgecolor = '0.25', markerfacecolor = '0.25')\n",
    "\n",
    "%config InlineBackend.figure_format = 'retina'"
   ]
  },
  {
   "cell_type": "code",
   "execution_count": 14,
   "metadata": {},
   "outputs": [],
   "source": [
    "#Defining the helper function, plot_multistep\n",
    "\n",
    "def plot_multistep(y, every = 1, ax = None, palette_kwargs = None):\n",
    "    \n",
    "    palette_kwargs_ = dict(palette = 'husl', n_colors = 16, desat = None)\n",
    "    \n",
    "    if palette_kwargs is not None:\n",
    "        palette_kwargs_= palette_kwargs_.update(palette_kwargs)\n",
    "    \n",
    "    palette = sns.color_palette(**palette_kwargs_)\n",
    "\n",
    "    if ax is None:\n",
    "        fig, ax = plt.subplots()\n",
    "    \n",
    "    ax.set_prop_cycle(plt.cycler('color', palette)) #a color palette is set for the plot so each prediction series will have a different color\n",
    "\n",
    "    for date, preds in y[::every].iterrows():\n",
    "        preds.index = pd.period_range(start=date, periods = len(preds))\n",
    "        preds.plot(ax=ax)\n",
    "    return ax\n",
    "\n",
    "\n",
    "\n",
    "\n",
    "\n",
    "\n"
   ]
  }
 ],
 "metadata": {
  "kernelspec": {
   "display_name": "Python 3",
   "language": "python",
   "name": "python3"
  },
  "language_info": {
   "codemirror_mode": {
    "name": "ipython",
    "version": 3
   },
   "file_extension": ".py",
   "mimetype": "text/x-python",
   "name": "python",
   "nbconvert_exporter": "python",
   "pygments_lexer": "ipython3",
   "version": "3.12.1"
  }
 },
 "nbformat": 4,
 "nbformat_minor": 2
}
